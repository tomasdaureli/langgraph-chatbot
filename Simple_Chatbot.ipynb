{
 "cells": [
  {
   "cell_type": "markdown",
   "metadata": {},
   "source": [
    "## Chatbots with LangGraph"
   ]
  },
  {
   "cell_type": "code",
   "execution_count": null,
   "metadata": {},
   "outputs": [],
   "source": [
    "%pip install langgraph langsmith"
   ]
  },
  {
   "cell_type": "code",
   "execution_count": null,
   "metadata": {},
   "outputs": [],
   "source": [
    "%pip install langchain langchain_community langchain-ollama"
   ]
  },
  {
   "cell_type": "code",
   "execution_count": null,
   "metadata": {},
   "outputs": [],
   "source": [
    "%pip install python-dotenv"
   ]
  },
  {
   "cell_type": "code",
   "execution_count": 7,
   "metadata": {},
   "outputs": [],
   "source": [
    "import os\n",
    "from dotenv import load_dotenv\n",
    "\n",
    "load_dotenv()\n",
    "\n",
    "langsmith_api_key = os.getenv(\"LANGSMITH_API_KEY\")\n",
    "langsmith_project = os.getenv(\"LANGSMITH_PROJECT\")"
   ]
  },
  {
   "cell_type": "code",
   "execution_count": 8,
   "metadata": {},
   "outputs": [],
   "source": [
    "os.environ[\"LANGSMITH_API_KEY\"] = langsmith_api_key\n",
    "os.environ[\"LANGSMITH_PROJECT\"] = langsmith_project\n",
    "os.environ[\"LANGCHAIN_TRACING_V2\"] = \"true\""
   ]
  },
  {
   "cell_type": "code",
   "execution_count": 9,
   "metadata": {},
   "outputs": [],
   "source": [
    "from langchain_ollama import ChatOllama"
   ]
  },
  {
   "cell_type": "code",
   "execution_count": 10,
   "metadata": {},
   "outputs": [],
   "source": [
    "llm = ChatOllama(model=\"llama3.2\")"
   ]
  },
  {
   "cell_type": "code",
   "execution_count": 12,
   "metadata": {},
   "outputs": [],
   "source": [
    "from typing import Annotated\n",
    "from typing_extensions import TypedDict\n",
    "from langgraph.graph import StateGraph, START, END\n",
    "from langgraph.graph.message import add_messages"
   ]
  },
  {
   "cell_type": "code",
   "execution_count": 13,
   "metadata": {},
   "outputs": [],
   "source": [
    "class State(TypedDict):\n",
    "    \"\"\"\n",
    "    Messages have the type 'list'. The `add_messages` function\n",
    "    in the annotation defines how this state key should be updated\n",
    "    (in this case, it appends messages to the list, rather than overwriting them)\n",
    "    \"\"\"\n",
    "    messages: Annotated[list, add_messages]\n",
    "\n",
    "graph_builder = StateGraph(State)"
   ]
  },
  {
   "cell_type": "code",
   "execution_count": 14,
   "metadata": {},
   "outputs": [],
   "source": [
    "def chatbot(state: State):\n",
    "    return {\"messages\": llm.invoke(state['messages'])}"
   ]
  },
  {
   "cell_type": "code",
   "execution_count": 15,
   "metadata": {},
   "outputs": [
    {
     "data": {
      "text/plain": [
       "<langgraph.graph.state.StateGraph at 0x11428a6d0>"
      ]
     },
     "execution_count": 15,
     "metadata": {},
     "output_type": "execute_result"
    }
   ],
   "source": [
    "graph_builder.add_node(\"chatbot\", chatbot)"
   ]
  },
  {
   "cell_type": "code",
   "execution_count": 16,
   "metadata": {},
   "outputs": [
    {
     "data": {
      "text/plain": [
       "<langgraph.graph.state.StateGraph at 0x11428a6d0>"
      ]
     },
     "execution_count": 16,
     "metadata": {},
     "output_type": "execute_result"
    }
   ],
   "source": [
    "graph_builder.add_edge(START, \"chatbot\")\n",
    "graph_builder.add_edge(\"chatbot\", END)"
   ]
  },
  {
   "cell_type": "code",
   "execution_count": 19,
   "metadata": {},
   "outputs": [],
   "source": [
    "graph = graph_builder.compile()"
   ]
  },
  {
   "cell_type": "code",
   "execution_count": 20,
   "metadata": {},
   "outputs": [
    {
     "name": "stdout",
     "output_type": "stream",
     "text": [
      "dict_values([{'messages': AIMessage(content='Hello! How can I assist you today?', additional_kwargs={}, response_metadata={'model': 'llama3.2', 'created_at': '2025-03-08T20:44:13.722878838Z', 'done': True, 'done_reason': 'stop', 'total_duration': 4883724627, 'load_duration': 2587994126, 'prompt_eval_count': 26, 'prompt_eval_duration': 1532000000, 'eval_count': 10, 'eval_duration': 759000000, 'message': Message(role='assistant', content='', images=None, tool_calls=None)}, id='run-52a1fc41-3faa-4183-a3b8-84282e8ef707-0', usage_metadata={'input_tokens': 26, 'output_tokens': 10, 'total_tokens': 36})}])\n",
      "content='Hello! How can I assist you today?' additional_kwargs={} response_metadata={'model': 'llama3.2', 'created_at': '2025-03-08T20:44:13.722878838Z', 'done': True, 'done_reason': 'stop', 'total_duration': 4883724627, 'load_duration': 2587994126, 'prompt_eval_count': 26, 'prompt_eval_duration': 1532000000, 'eval_count': 10, 'eval_duration': 759000000, 'message': Message(role='assistant', content='', images=None, tool_calls=None)} id='run-52a1fc41-3faa-4183-a3b8-84282e8ef707-0' usage_metadata={'input_tokens': 26, 'output_tokens': 10, 'total_tokens': 36}\n",
      "Assistant:  Hello! How can I assist you today?\n",
      "dict_values([{'messages': AIMessage(content='The capital of Argentina is Buenos Aires.', additional_kwargs={}, response_metadata={'model': 'llama3.2', 'created_at': '2025-03-08T20:44:37.68157971Z', 'done': True, 'done_reason': 'stop', 'total_duration': 1063015584, 'load_duration': 29415167, 'prompt_eval_count': 32, 'prompt_eval_duration': 457000000, 'eval_count': 9, 'eval_duration': 574000000, 'message': Message(role='assistant', content='', images=None, tool_calls=None)}, id='run-e14cd0e6-d16d-41a2-999d-5e3cc5e5cd3e-0', usage_metadata={'input_tokens': 32, 'output_tokens': 9, 'total_tokens': 41})}])\n",
      "content='The capital of Argentina is Buenos Aires.' additional_kwargs={} response_metadata={'model': 'llama3.2', 'created_at': '2025-03-08T20:44:37.68157971Z', 'done': True, 'done_reason': 'stop', 'total_duration': 1063015584, 'load_duration': 29415167, 'prompt_eval_count': 32, 'prompt_eval_duration': 457000000, 'eval_count': 9, 'eval_duration': 574000000, 'message': Message(role='assistant', content='', images=None, tool_calls=None)} id='run-e14cd0e6-d16d-41a2-999d-5e3cc5e5cd3e-0' usage_metadata={'input_tokens': 32, 'output_tokens': 9, 'total_tokens': 41}\n",
      "Assistant:  The capital of Argentina is Buenos Aires.\n",
      "dict_values([{'messages': AIMessage(content='Buenos Aires is not a country, but rather the capital and largest city of Argentina. So, there is no capital of Buenos Aires.\\n\\nHowever, I believe you might be referring to Buenos Aires being the capital of an autonomous city or a region within Argentina. Could you please provide more context or clarify which part of Buenos Aires you are referring to?\\n\\nIf you meant to ask about the province of Buenos Aires (Provincia de Buenos Aires), its capital is Nueve de Julio.', additional_kwargs={}, response_metadata={'model': 'llama3.2', 'created_at': '2025-03-08T20:44:58.560871553Z', 'done': True, 'done_reason': 'stop', 'total_duration': 8515315254, 'load_duration': 27305834, 'prompt_eval_count': 33, 'prompt_eval_duration': 299000000, 'eval_count': 99, 'eval_duration': 8187000000, 'message': Message(role='assistant', content='', images=None, tool_calls=None)}, id='run-351a0df4-0e4a-47f7-941e-bcd363791eae-0', usage_metadata={'input_tokens': 33, 'output_tokens': 99, 'total_tokens': 132})}])\n",
      "content='Buenos Aires is not a country, but rather the capital and largest city of Argentina. So, there is no capital of Buenos Aires.\\n\\nHowever, I believe you might be referring to Buenos Aires being the capital of an autonomous city or a region within Argentina. Could you please provide more context or clarify which part of Buenos Aires you are referring to?\\n\\nIf you meant to ask about the province of Buenos Aires (Provincia de Buenos Aires), its capital is Nueve de Julio.' additional_kwargs={} response_metadata={'model': 'llama3.2', 'created_at': '2025-03-08T20:44:58.560871553Z', 'done': True, 'done_reason': 'stop', 'total_duration': 8515315254, 'load_duration': 27305834, 'prompt_eval_count': 33, 'prompt_eval_duration': 299000000, 'eval_count': 99, 'eval_duration': 8187000000, 'message': Message(role='assistant', content='', images=None, tool_calls=None)} id='run-351a0df4-0e4a-47f7-941e-bcd363791eae-0' usage_metadata={'input_tokens': 33, 'output_tokens': 99, 'total_tokens': 132}\n",
      "Assistant:  Buenos Aires is not a country, but rather the capital and largest city of Argentina. So, there is no capital of Buenos Aires.\n",
      "\n",
      "However, I believe you might be referring to Buenos Aires being the capital of an autonomous city or a region within Argentina. Could you please provide more context or clarify which part of Buenos Aires you are referring to?\n",
      "\n",
      "If you meant to ask about the province of Buenos Aires (Provincia de Buenos Aires), its capital is Nueve de Julio.\n",
      "Goodbye!\n"
     ]
    }
   ],
   "source": [
    "while True:\n",
    "    user_input = input(\"User: \")\n",
    "    if user_input.lower() in [\"q\", \"quit\"]:\n",
    "        print(\"Goodbye!\")\n",
    "        break\n",
    "    for event in graph.stream({\"messages\": (\"user\", user_input)}):\n",
    "        print(event.values())\n",
    "        for value in event.values():\n",
    "            print(value['messages'])\n",
    "            print(\"Assistant: \", value['messages'].content)\n"
   ]
  }
 ],
 "metadata": {
  "kernelspec": {
   "display_name": "env",
   "language": "python",
   "name": "python3"
  },
  "language_info": {
   "codemirror_mode": {
    "name": "ipython",
    "version": 3
   },
   "file_extension": ".py",
   "mimetype": "text/x-python",
   "name": "python",
   "nbconvert_exporter": "python",
   "pygments_lexer": "ipython3",
   "version": "3.11.6"
  }
 },
 "nbformat": 4,
 "nbformat_minor": 2
}
